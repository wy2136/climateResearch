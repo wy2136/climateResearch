{
 "cells": [
  {
   "cell_type": "markdown",
   "metadata": {
    "colab_type": "text",
    "editable": true,
    "id": "Nm10RzJa_a1X",
    "slideshow": {
     "slide_type": "slide"
    },
    "tags": []
   },
   "source": [
    "# Basic Python\n",
    "* Wenchang Yang (wenchang@princeton.edu)\n",
    "* Department of Geosciences, Princeton University\n",
    "* 2024"
   ]
  },
  {
   "cell_type": "markdown",
   "metadata": {
    "colab_type": "text",
    "editable": true,
    "id": "1-aqeh8Q4kPZ",
    "slideshow": {
     "slide_type": "slide"
    },
    "tags": []
   },
   "source": [
    "### Start Jupyter Lab\n",
    "Run a Terminal (or iTerm), and in the Terminal type:\n",
    "\n",
    "    jupyter lab\n"
   ]
  },
  {
   "cell_type": "markdown",
   "metadata": {
    "colab_type": "text",
    "editable": true,
    "id": "nlIRT7vT4kPc",
    "slideshow": {
     "slide_type": "fragment"
    },
    "tags": []
   },
   "source": [
    "### Using Jupyter Lab\n",
    "\n",
    "You use Jupyter to create an iPython Notebook.\n",
    "\n",
    "The notebook contains a series of \"cells\".\n",
    "\n",
    "Each cell can be either Code (that is, Python) or Markdown (that is, fancy text).  You can set the cell type from the menu on the tool bar.\n",
    "\n",
    "To execute a cell, that is, run it, select the cell and click the run button."
   ]
  },
  {
   "cell_type": "markdown",
   "metadata": {
    "colab_type": "text",
    "editable": true,
    "id": "U54oAV1t4kPf",
    "slideshow": {
     "slide_type": "slide"
    },
    "tags": []
   },
   "source": [
    "### Python Comments"
   ]
  },
  {
   "cell_type": "code",
   "execution_count": null,
   "metadata": {
    "colab": {},
    "colab_type": "code",
    "editable": true,
    "id": "1VF5kptH4kPh",
    "slideshow": {
     "slide_type": "fragment"
    },
    "tags": []
   },
   "outputs": [],
   "source": [
    "# Comments are intended to help a person (including yourself) read your code.\n",
    "# Comments start with a \"#\".\n",
    "\n",
    "x = 1     # A comment can also follow a Python statement."
   ]
  },
  {
   "cell_type": "markdown",
   "metadata": {
    "colab_type": "text",
    "editable": true,
    "id": "AiBdeq0P4kPo",
    "slideshow": {
     "slide_type": "slide"
    },
    "tags": []
   },
   "source": [
    "### Indentation is part of Python Syntax"
   ]
  },
  {
   "cell_type": "markdown",
   "metadata": {
    "colab_type": "text",
    "editable": true,
    "id": "P0neQcPA4kPq",
    "slideshow": {
     "slide_type": "fragment"
    },
    "tags": []
   },
   "source": [
    "Try to run the cell below:"
   ]
  },
  {
   "cell_type": "code",
   "execution_count": null,
   "metadata": {
    "colab": {
     "base_uri": "https://localhost:8080/",
     "height": 130
    },
    "colab_type": "code",
    "editable": true,
    "executionInfo": {
     "elapsed": 960,
     "status": "error",
     "timestamp": 1569852242003,
     "user": {
      "displayName": "Wenchang Yang",
      "photoUrl": "https://lh3.googleusercontent.com/a-/AAuE7mAzexWcchBOvHGw9u_Nm2D-vWc4ApTqQ4uLX1i-=s64",
      "userId": "02317458745209383076"
     },
     "user_tz": 240
    },
    "id": "JRyR_QqhK4NY",
    "outputId": "d3f71e60-1d5e-4deb-f317-c1db988a9aa6",
    "slideshow": {
     "slide_type": "fragment"
    },
    "tags": []
   },
   "outputs": [],
   "source": [
    "# Indentation matters\n",
    "a = 1\n",
    "  b = 2"
   ]
  },
  {
   "cell_type": "markdown",
   "metadata": {
    "colab_type": "text",
    "editable": true,
    "id": "T8XhqnGu4kPv",
    "slideshow": {
     "slide_type": "slide"
    },
    "tags": []
   },
   "source": [
    "### Variables\n",
    "\n",
    "A variable is a named place in computer memory into which you put a\n",
    "value or values.\n",
    "\n",
    "You make up the name, preferably something meaningful.  Start with a\n",
    "letter (or underscore), then letters and/or numbers and/or underscores.  Upper/lower case matters.\n",
    "\n",
    "Examples of variable names:\n",
    "\n",
    "    filename1\n",
    "    largestValue\n",
    "    number_of_students\n",
    "    i\n",
    "    I\n",
    "    _privateValue"
   ]
  },
  {
   "cell_type": "markdown",
   "metadata": {
    "colab_type": "text",
    "editable": true,
    "id": "GFoDqkLA4kPw",
    "slideshow": {
     "slide_type": "slide"
    },
    "tags": []
   },
   "source": [
    "### Numbers\n",
    "\n",
    "The Python can act as a simple calculator: you type an expression at it and it will write the value. Expression syntax is straightforward: the operators `+`, `-`, `*` and `/` work just like in most other languages (for example, C or Matlab); parentheses (()) can be used for grouping. For example:"
   ]
  },
  {
   "cell_type": "code",
   "execution_count": null,
   "metadata": {
    "colab": {
     "base_uri": "https://localhost:8080/",
     "height": 34
    },
    "colab_type": "code",
    "editable": true,
    "executionInfo": {
     "elapsed": 552,
     "status": "ok",
     "timestamp": 1569852339032,
     "user": {
      "displayName": "Wenchang Yang",
      "photoUrl": "https://lh3.googleusercontent.com/a-/AAuE7mAzexWcchBOvHGw9u_Nm2D-vWc4ApTqQ4uLX1i-=s64",
      "userId": "02317458745209383076"
     },
     "user_tz": 240
    },
    "id": "3rdykKH44kPz",
    "outputId": "283e1510-20bb-4183-8a62-9f3de95d1d7e",
    "slideshow": {
     "slide_type": "fragment"
    },
    "tags": []
   },
   "outputs": [],
   "source": [
    "(50 - 5*6) / 4"
   ]
  },
  {
   "cell_type": "markdown",
   "metadata": {
    "colab_type": "text",
    "editable": true,
    "id": "ojX5Ext44kP2",
    "slideshow": {
     "slide_type": "subslide"
    },
    "tags": []
   },
   "source": [
    "With Python, we use the ** operator to calculate powers (unlike Matlab, which uses ^)"
   ]
  },
  {
   "cell_type": "code",
   "execution_count": null,
   "metadata": {
    "colab": {},
    "colab_type": "code",
    "editable": true,
    "id": "rG-b9aI34kP3",
    "outputId": "0f3f67d3-d88f-4921-a22f-410f7ea54cc4",
    "slideshow": {
     "slide_type": "fragment"
    },
    "tags": []
   },
   "outputs": [],
   "source": [
    "2 ** 7  # 2 to the power of 7"
   ]
  },
  {
   "cell_type": "markdown",
   "metadata": {
    "colab_type": "text",
    "editable": true,
    "id": "P8MvVRqZ4kP5",
    "slideshow": {
     "slide_type": "fragment"
    },
    "tags": []
   },
   "source": [
    "The equal sign (`=`) is used to assign a value to a variable:"
   ]
  },
  {
   "cell_type": "code",
   "execution_count": null,
   "metadata": {
    "colab": {},
    "colab_type": "code",
    "editable": true,
    "id": "1KTOieid4kP6",
    "slideshow": {
     "slide_type": "fragment"
    },
    "tags": []
   },
   "outputs": [],
   "source": [
    "width = 20\n",
    "height = 5\n",
    "area = width * height"
   ]
  },
  {
   "cell_type": "markdown",
   "metadata": {
    "colab_type": "text",
    "editable": true,
    "id": "x7Ap3B2D4kP7",
    "slideshow": {
     "slide_type": "fragment"
    },
    "tags": []
   },
   "source": [
    "You can use the `print` function to show the result."
   ]
  },
  {
   "cell_type": "code",
   "execution_count": null,
   "metadata": {
    "colab": {
     "base_uri": "https://localhost:8080/",
     "height": 34
    },
    "colab_type": "code",
    "editable": true,
    "executionInfo": {
     "elapsed": 801,
     "status": "ok",
     "timestamp": 1569852394375,
     "user": {
      "displayName": "Wenchang Yang",
      "photoUrl": "https://lh3.googleusercontent.com/a-/AAuE7mAzexWcchBOvHGw9u_Nm2D-vWc4ApTqQ4uLX1i-=s64",
      "userId": "02317458745209383076"
     },
     "user_tz": 240
    },
    "id": "M_iDDRqN4kP8",
    "outputId": "18c36360-0e29-496a-902c-bb6d5c58b687",
    "slideshow": {
     "slide_type": "fragment"
    },
    "tags": []
   },
   "outputs": [],
   "source": [
    "print(area)"
   ]
  },
  {
   "cell_type": "markdown",
   "metadata": {
    "colab_type": "text",
    "editable": true,
    "id": "pbYoCbOT4kP9",
    "slideshow": {
     "slide_type": "slide"
    },
    "tags": []
   },
   "source": [
    "### Strings\n",
    "Besides numbers, Python can also manipulate strings, which can be expressed in several ways. They can be enclosed in single quotes (`'...'`) or double quotes (`\"...\"`) with the same result."
   ]
  },
  {
   "cell_type": "code",
   "execution_count": null,
   "metadata": {
    "colab": {
     "base_uri": "https://localhost:8080/",
     "height": 51
    },
    "colab_type": "code",
    "editable": true,
    "executionInfo": {
     "elapsed": 796,
     "status": "ok",
     "timestamp": 1569852425095,
     "user": {
      "displayName": "Wenchang Yang",
      "photoUrl": "https://lh3.googleusercontent.com/a-/AAuE7mAzexWcchBOvHGw9u_Nm2D-vWc4ApTqQ4uLX1i-=s64",
      "userId": "02317458745209383076"
     },
     "user_tz": 240
    },
    "id": "Ce5tBJGz4kP-",
    "outputId": "429e23f3-3493-4d28-9f21-4f24d873c983",
    "slideshow": {
     "slide_type": "fragment"
    },
    "tags": []
   },
   "outputs": [],
   "source": [
    "print('hellow world')  # single quotes\n",
    "print(\"doesn't\")  # ...or use double quotes instead"
   ]
  },
  {
   "cell_type": "markdown",
   "metadata": {
    "colab_type": "text",
    "editable": true,
    "id": "WeXYISzV4kP_",
    "slideshow": {
     "slide_type": "subslide"
    },
    "tags": []
   },
   "source": [
    "Strings can be concatenated with `+`:"
   ]
  },
  {
   "cell_type": "code",
   "execution_count": null,
   "metadata": {
    "colab": {},
    "colab_type": "code",
    "editable": true,
    "id": "gf4mkgT14kQA",
    "outputId": "67ef78b7-7cb1-4a0f-f911-71f2312da117",
    "slideshow": {
     "slide_type": "fragment"
    },
    "tags": []
   },
   "outputs": [],
   "source": [
    "'Life is short, ' + 'I use Python.'"
   ]
  },
  {
   "cell_type": "markdown",
   "metadata": {
    "colab_type": "text",
    "editable": true,
    "id": "L5FID6Cu4kQB",
    "slideshow": {
     "slide_type": "fragment"
    },
    "tags": []
   },
   "source": [
    "Strings can be indexed (subscripted), with the first character having index **0**."
   ]
  },
  {
   "cell_type": "code",
   "execution_count": null,
   "metadata": {
    "colab": {},
    "colab_type": "code",
    "editable": true,
    "id": "pLiRz-a14kQC",
    "outputId": "0c498db7-3c13-4ba2-db66-d7a03ae88530",
    "slideshow": {
     "slide_type": "fragment"
    },
    "tags": []
   },
   "outputs": [],
   "source": [
    "word = 'Python'\n",
    "word[0] # character in position 0"
   ]
  },
  {
   "cell_type": "code",
   "execution_count": null,
   "metadata": {
    "colab": {},
    "colab_type": "code",
    "editable": true,
    "id": "CxXzPl8x4kQD",
    "outputId": "3ed2ebae-0a93-4adb-9f67-f425307dc41b",
    "slideshow": {
     "slide_type": "fragment"
    },
    "tags": []
   },
   "outputs": [],
   "source": [
    "word[5] # character in position 5"
   ]
  },
  {
   "cell_type": "markdown",
   "metadata": {
    "colab_type": "text",
    "editable": true,
    "id": "DRcL1qak4kQE",
    "slideshow": {
     "slide_type": "fragment"
    },
    "tags": []
   },
   "source": [
    "In addition to indexing, slicing is also supported. While indexing is used to obtain individual characters, slicing allows you to obtain substring:"
   ]
  },
  {
   "cell_type": "code",
   "execution_count": null,
   "metadata": {
    "colab": {},
    "colab_type": "code",
    "editable": true,
    "id": "ejH19Xh44kQF",
    "outputId": "0f4b6ac4-089c-4a30-fc42-a5202a780868",
    "slideshow": {
     "slide_type": "fragment"
    },
    "tags": []
   },
   "outputs": [],
   "source": [
    "word[0:2]  # characters from position 0 (included) to 2 (excluded)"
   ]
  },
  {
   "cell_type": "markdown",
   "metadata": {
    "colab_type": "text",
    "editable": true,
    "id": "6jPI0buf4kQG",
    "slideshow": {
     "slide_type": "fragment"
    },
    "tags": []
   },
   "source": [
    "Note that the start is always **included**, and the end always **excluded.**"
   ]
  },
  {
   "cell_type": "markdown",
   "metadata": {
    "colab_type": "text",
    "editable": true,
    "id": "rMLR2MEH4kQG",
    "slideshow": {
     "slide_type": "slide"
    },
    "tags": []
   },
   "source": [
    "### Lists\n",
    "A list is an ordered series of objects.\n",
    "\n",
    "Lists are indexed by integers, **starting from 0.**"
   ]
  },
  {
   "cell_type": "code",
   "execution_count": null,
   "metadata": {
    "colab": {},
    "colab_type": "code",
    "editable": true,
    "id": "0kUvlI0U4kQH",
    "outputId": "01266e17-9643-4f2c-d33b-1c9531ef0bab",
    "slideshow": {
     "slide_type": "fragment"
    },
    "tags": []
   },
   "outputs": [],
   "source": [
    "# Here is a list of square numbers\n",
    "squares = [1, 4, 9, 16, 25]\n",
    "print(squares)"
   ]
  },
  {
   "cell_type": "markdown",
   "metadata": {
    "colab_type": "text",
    "editable": true,
    "id": "4zMc36F34kQJ",
    "slideshow": {
     "slide_type": "fragment"
    },
    "tags": []
   },
   "source": [
    "Like strings, lists can be indexed and sliced:"
   ]
  },
  {
   "cell_type": "code",
   "execution_count": null,
   "metadata": {
    "colab": {},
    "colab_type": "code",
    "editable": true,
    "id": "q1Yj8Ocl4kQJ",
    "outputId": "6d8952f2-7175-4a06-e845-bebee74a56f2",
    "slideshow": {
     "slide_type": "fragment"
    },
    "tags": []
   },
   "outputs": [],
   "source": [
    "squares[0]  # indexing returns the item"
   ]
  },
  {
   "cell_type": "code",
   "execution_count": null,
   "metadata": {
    "colab": {},
    "colab_type": "code",
    "editable": true,
    "id": "IuUCV-iT4kQL",
    "outputId": "97687ff4-becd-4112-d7f2-4b3c062edc87",
    "slideshow": {
     "slide_type": "fragment"
    },
    "tags": []
   },
   "outputs": [],
   "source": [
    "squares[1:3]  # slicing returns a new list"
   ]
  },
  {
   "cell_type": "markdown",
   "metadata": {
    "colab_type": "text",
    "editable": true,
    "id": "4xL4oTVw4kQM",
    "slideshow": {
     "slide_type": "fragment"
    },
    "tags": []
   },
   "source": [
    "Lists also support operations like concatenation:"
   ]
  },
  {
   "cell_type": "code",
   "execution_count": null,
   "metadata": {
    "colab": {},
    "colab_type": "code",
    "editable": true,
    "id": "ITifB8hi4kQP",
    "outputId": "96cedab3-445c-4f51-fbdc-d9913f0825b5",
    "slideshow": {
     "slide_type": "fragment"
    },
    "tags": []
   },
   "outputs": [],
   "source": [
    "squares + [36, 49, 64, 81, 100]"
   ]
  },
  {
   "cell_type": "markdown",
   "metadata": {
    "colab_type": "text",
    "editable": true,
    "id": "j4Z9Owp04kQR",
    "slideshow": {
     "slide_type": "subslide"
    },
    "tags": []
   },
   "source": [
    "Unlike strings, which are immutable, lists are a mutable type, i.e. it is possible to change their content:"
   ]
  },
  {
   "cell_type": "code",
   "execution_count": null,
   "metadata": {
    "colab": {},
    "colab_type": "code",
    "editable": true,
    "id": "TqPEFKOa4kQR",
    "outputId": "559a715e-0bb6-429e-b7b5-80491c2523e0",
    "slideshow": {
     "slide_type": "fragment"
    },
    "tags": []
   },
   "outputs": [],
   "source": [
    "squares.append(36)\n",
    "print(squares)"
   ]
  },
  {
   "cell_type": "code",
   "execution_count": null,
   "metadata": {
    "colab": {},
    "colab_type": "code",
    "editable": true,
    "id": "jjz8Cml54kQT",
    "outputId": "50ef67df-850c-4995-aac5-c35501590c08",
    "slideshow": {
     "slide_type": "fragment"
    },
    "tags": []
   },
   "outputs": [],
   "source": [
    "squares[5] = 100\n",
    "print(squares)"
   ]
  },
  {
   "cell_type": "markdown",
   "metadata": {
    "colab_type": "text",
    "editable": true,
    "id": "EPKy73Np4kQY",
    "slideshow": {
     "slide_type": "slide"
    },
    "tags": []
   },
   "source": [
    "### Tuples\n",
    "A tuple is like a list, but immutable (cannot be changed in place)."
   ]
  },
  {
   "cell_type": "code",
   "execution_count": null,
   "metadata": {
    "colab": {},
    "colab_type": "code",
    "editable": true,
    "id": "0I-8Kvbu4kQZ",
    "slideshow": {
     "slide_type": "fragment"
    },
    "tags": []
   },
   "outputs": [],
   "source": [
    "t = (2019, 'September', 'Monday')"
   ]
  },
  {
   "cell_type": "code",
   "execution_count": null,
   "metadata": {
    "colab": {
     "base_uri": "https://localhost:8080/",
     "height": 51
    },
    "colab_type": "code",
    "editable": true,
    "executionInfo": {
     "elapsed": 979,
     "status": "ok",
     "timestamp": 1569852558111,
     "user": {
      "displayName": "Wenchang Yang",
      "photoUrl": "https://lh3.googleusercontent.com/a-/AAuE7mAzexWcchBOvHGw9u_Nm2D-vWc4ApTqQ4uLX1i-=s64",
      "userId": "02317458745209383076"
     },
     "user_tz": 240
    },
    "id": "EuXp_YN24kQZ",
    "outputId": "b6094963-363c-4e1b-aa6e-80d0286a8fe8",
    "slideshow": {
     "slide_type": "fragment"
    },
    "tags": []
   },
   "outputs": [],
   "source": [
    "print(t[0])\n",
    "print(t[1:3])"
   ]
  },
  {
   "cell_type": "code",
   "execution_count": null,
   "metadata": {
    "colab": {
     "base_uri": "https://localhost:8080/",
     "height": 164
    },
    "colab_type": "code",
    "editable": true,
    "executionInfo": {
     "elapsed": 547,
     "status": "error",
     "timestamp": 1569852571936,
     "user": {
      "displayName": "Wenchang Yang",
      "photoUrl": "https://lh3.googleusercontent.com/a-/AAuE7mAzexWcchBOvHGw9u_Nm2D-vWc4ApTqQ4uLX1i-=s64",
      "userId": "02317458745209383076"
     },
     "user_tz": 240
    },
    "id": "5hal1tkH4kQa",
    "outputId": "c142f0f3-724d-45ff-e5d6-7b5db257fdf0",
    "slideshow": {
     "slide_type": "fragment"
    },
    "tags": []
   },
   "outputs": [],
   "source": [
    "# Immutable\n",
    "t[0] = \"Can't do this\""
   ]
  },
  {
   "cell_type": "code",
   "execution_count": null,
   "metadata": {
    "colab": {
     "base_uri": "https://localhost:8080/",
     "height": 164
    },
    "colab_type": "code",
    "editable": true,
    "executionInfo": {
     "elapsed": 448,
     "status": "error",
     "timestamp": 1569852590393,
     "user": {
      "displayName": "Wenchang Yang",
      "photoUrl": "https://lh3.googleusercontent.com/a-/AAuE7mAzexWcchBOvHGw9u_Nm2D-vWc4ApTqQ4uLX1i-=s64",
      "userId": "02317458745209383076"
     },
     "user_tz": 240
    },
    "id": "JjoYpV_b4kQb",
    "outputId": "f142d635-67a8-4f9c-d058-db4646f1bee4",
    "slideshow": {
     "slide_type": "fragment"
    },
    "tags": []
   },
   "outputs": [],
   "source": [
    "t.append(\"Can't do this either\")"
   ]
  },
  {
   "cell_type": "markdown",
   "metadata": {
    "colab_type": "text",
    "editable": true,
    "id": "BIkRaUW94kQc",
    "slideshow": {
     "slide_type": "slide"
    },
    "tags": []
   },
   "source": [
    "### Dictionaries\n",
    "- A dictionary is a collection of key/value pairs.\n",
    "- It is mutable (like a list)"
   ]
  },
  {
   "cell_type": "code",
   "execution_count": null,
   "metadata": {
    "colab": {
     "base_uri": "https://localhost:8080/",
     "height": 34
    },
    "colab_type": "code",
    "editable": true,
    "executionInfo": {
     "elapsed": 586,
     "status": "ok",
     "timestamp": 1569853319077,
     "user": {
      "displayName": "Wenchang Yang",
      "photoUrl": "https://lh3.googleusercontent.com/a-/AAuE7mAzexWcchBOvHGw9u_Nm2D-vWc4ApTqQ4uLX1i-=s64",
      "userId": "02317458745209383076"
     },
     "user_tz": 240
    },
    "id": "d6wmy7Gu4kQd",
    "outputId": "8e82886e-5f37-428a-ac73-b769e2748ed3",
    "slideshow": {
     "slide_type": "fragment"
    },
    "tags": []
   },
   "outputs": [],
   "source": [
    "# In this example, the keys are 'birthYear', 'color' and 'nickname'\n",
    "# and the values are 1746, 'Orange and Black', and 'Tigers'\n",
    "\n",
    "pu = {'birthYear': 1746, 'color': 'Orange and Black', 'nickname': 'Tigers'}\n",
    "print(pu)"
   ]
  },
  {
   "cell_type": "code",
   "execution_count": null,
   "metadata": {
    "colab": {},
    "colab_type": "code",
    "editable": true,
    "id": "L0fS25t44kQe",
    "outputId": "b7c12a07-bb84-4a7a-99f5-47c2cfe856ef",
    "slideshow": {
     "slide_type": "subslide"
    },
    "tags": []
   },
   "outputs": [],
   "source": [
    "# Values can be accessed by keys\n",
    "\n",
    "print(pu['nickname'])"
   ]
  },
  {
   "cell_type": "code",
   "execution_count": null,
   "metadata": {
    "colab": {},
    "colab_type": "code",
    "editable": true,
    "id": "xRSBk5oq4kQf",
    "outputId": "637a9208-df93-474e-a70c-da1bd48beb2e",
    "slideshow": {
     "slide_type": "fragment"
    },
    "tags": []
   },
   "outputs": [],
   "source": [
    "# Mutable. Values can be modified or added.\n",
    "\n",
    "pu['oldName'] = 'College of New Jersey'\n",
    "print(pu)"
   ]
  },
  {
   "cell_type": "code",
   "execution_count": 24,
   "metadata": {
    "colab": {},
    "colab_type": "code",
    "editable": true,
    "id": "a9CH96OK4kQg",
    "outputId": "98d7b6ea-2fe8-481f-f9af-1eee7a17334f",
    "slideshow": {
     "slide_type": "fragment"
    },
    "tags": []
   },
   "outputs": [
    {
     "name": "stdout",
     "output_type": "stream",
     "text": [
      "birthYear : 1746\n",
      "color : Orange and Black\n",
      "nickname : Tigers\n",
      "oldName : College of New Jersey\n"
     ]
    }
   ],
   "source": [
    "# Iterating over a dictionary\n",
    "for k,v in pu.items():\n",
    "    print(k, ':', v)"
   ]
  },
  {
   "cell_type": "markdown",
   "metadata": {
    "colab_type": "text",
    "editable": true,
    "id": "6YgAUym74kQV",
    "slideshow": {
     "slide_type": "slide"
    },
    "tags": []
   },
   "source": [
    "### `if` statements"
   ]
  },
  {
   "cell_type": "code",
   "execution_count": 25,
   "metadata": {
    "colab": {},
    "colab_type": "code",
    "editable": true,
    "id": "Sr_Mev8O4kQV",
    "outputId": "42478f01-5e4b-4852-8204-d8b0344ab310",
    "slideshow": {
     "slide_type": "fragment"
    },
    "tags": []
   },
   "outputs": [
    {
     "name": "stdout",
     "output_type": "stream",
     "text": [
      "a <= b\n"
     ]
    }
   ],
   "source": [
    "a = 3\n",
    "b = 5\n",
    "if a > b:\n",
    "    print('a > b')\n",
    "else:\n",
    "    print('a <= b')"
   ]
  },
  {
   "cell_type": "markdown",
   "metadata": {
    "colab_type": "text",
    "editable": true,
    "id": "2GIE1TJn4kQW",
    "slideshow": {
     "slide_type": "slide"
    },
    "tags": []
   },
   "source": [
    "### `for` loops"
   ]
  },
  {
   "cell_type": "markdown",
   "metadata": {
    "colab_type": "text",
    "editable": true,
    "id": "RWOWD6Qx4kQX",
    "slideshow": {
     "slide_type": "fragment"
    },
    "tags": []
   },
   "source": [
    "The syntax of a for loop is:\n",
    "\n",
    "```python\n",
    "for variable in iterable:\n",
    "    do something\n",
    " ```"
   ]
  },
  {
   "cell_type": "code",
   "execution_count": 26,
   "metadata": {
    "colab": {},
    "colab_type": "code",
    "editable": true,
    "id": "YPrTYy0D4kQX",
    "outputId": "47833ce9-b7fc-4f57-8346-93fc351f5288",
    "slideshow": {
     "slide_type": "fragment"
    },
    "tags": []
   },
   "outputs": [
    {
     "name": "stdout",
     "output_type": "stream",
     "text": [
      "1\n",
      "4\n",
      "9\n",
      "16\n",
      "25\n",
      "100\n"
     ]
    }
   ],
   "source": [
    "for i in squares:\n",
    "    print(i)"
   ]
  },
  {
   "cell_type": "markdown",
   "metadata": {
    "colab_type": "text",
    "editable": true,
    "id": "fLJko8WU4kQh",
    "slideshow": {
     "slide_type": "slide"
    },
    "tags": []
   },
   "source": [
    "### Functions\n",
    "A function is a block of code that you define for later use (potentially multiple times)."
   ]
  },
  {
   "cell_type": "code",
   "execution_count": null,
   "metadata": {
    "colab": {},
    "colab_type": "code",
    "editable": true,
    "id": "QXzUM3nD4kQh",
    "slideshow": {
     "slide_type": "fragment"
    },
    "tags": []
   },
   "outputs": [],
   "source": [
    "# define the function\n",
    "\n",
    "def hello_world():\n",
    "    print('Hellow World!')"
   ]
  },
  {
   "cell_type": "code",
   "execution_count": null,
   "metadata": {
    "colab": {},
    "colab_type": "code",
    "editable": true,
    "id": "NUHzMjVs4kQi",
    "outputId": "28ef4bfe-72c3-4724-fbbb-b5587836c333",
    "slideshow": {
     "slide_type": "fragment"
    },
    "tags": []
   },
   "outputs": [],
   "source": [
    "# call the function\n",
    "\n",
    "hello_world()"
   ]
  },
  {
   "cell_type": "markdown",
   "metadata": {
    "colab_type": "text",
    "editable": true,
    "id": "FlG5-_NH4kQj",
    "slideshow": {
     "slide_type": "fragment"
    },
    "tags": []
   },
   "source": [
    "Functions can return values."
   ]
  },
  {
   "cell_type": "code",
   "execution_count": null,
   "metadata": {
    "colab": {},
    "colab_type": "code",
    "editable": true,
    "id": "DcaGSMUk4kQj",
    "slideshow": {
     "slide_type": "fragment"
    },
    "tags": []
   },
   "outputs": [],
   "source": [
    "# Functions can return values\n",
    "\n",
    "def get_school_name():\n",
    "    return 'Princeton University'"
   ]
  },
  {
   "cell_type": "code",
   "execution_count": null,
   "metadata": {
    "colab": {},
    "colab_type": "code",
    "editable": true,
    "id": "iDUUZJYl4kQk",
    "outputId": "6119ea76-efe2-4d03-eba1-10cc06dc717d",
    "slideshow": {
     "slide_type": "fragment"
    },
    "tags": []
   },
   "outputs": [],
   "source": [
    "print( get_school_name() )"
   ]
  },
  {
   "cell_type": "markdown",
   "metadata": {
    "colab_type": "text",
    "editable": true,
    "id": "xbslo1o44kQk",
    "slideshow": {
     "slide_type": "subslide"
    },
    "tags": []
   },
   "source": [
    "#### Function arguments\n",
    "\n",
    "You can pass objects into a function as \"arguments\".  There are two kinds of arguments: positional and keyword."
   ]
  },
  {
   "cell_type": "code",
   "execution_count": 27,
   "metadata": {
    "colab": {},
    "colab_type": "code",
    "editable": true,
    "id": "du3bg5We4kQl",
    "slideshow": {
     "slide_type": "fragment"
    },
    "tags": []
   },
   "outputs": [],
   "source": [
    "def do_minus(a, b):\n",
    "    return a - b"
   ]
  },
  {
   "cell_type": "code",
   "execution_count": 28,
   "metadata": {
    "colab": {},
    "colab_type": "code",
    "editable": true,
    "id": "bik8dRWz4kQm",
    "outputId": "c7844a6c-cacb-4ffd-9456-cff7c6e985c0",
    "slideshow": {
     "slide_type": "fragment"
    },
    "tags": []
   },
   "outputs": [
    {
     "data": {
      "text/plain": [
       "5"
      ]
     },
     "execution_count": 28,
     "metadata": {},
     "output_type": "execute_result"
    }
   ],
   "source": [
    "# Positional arguments.\n",
    "\n",
    "do_minus(10, 5)"
   ]
  },
  {
   "cell_type": "code",
   "execution_count": 29,
   "metadata": {
    "colab": {},
    "colab_type": "code",
    "editable": true,
    "id": "vgb4XAyr4kQm",
    "outputId": "57014beb-e2fe-49ed-bd38-861dd92ec563",
    "slideshow": {
     "slide_type": "fragment"
    },
    "tags": []
   },
   "outputs": [
    {
     "data": {
      "text/plain": [
       "5"
      ]
     },
     "execution_count": 29,
     "metadata": {},
     "output_type": "execute_result"
    }
   ],
   "source": [
    "# Keyword arguments.\n",
    "\n",
    "do_minus(b=5, a=10)"
   ]
  },
  {
   "cell_type": "markdown",
   "metadata": {
    "colab_type": "text",
    "editable": true,
    "id": "AQNGST6B4kQn",
    "slideshow": {
     "slide_type": "slide"
    },
    "tags": []
   },
   "source": [
    "### Modules\n",
    "Python itself only provides some fundamental functionalities. Others are encapsulated into different modules, either built-in or external. You need to `import` these modules before you can use them. \n",
    "\n",
    "Related modules are often grouped into a package."
   ]
  },
  {
   "cell_type": "code",
   "execution_count": 30,
   "metadata": {
    "colab": {},
    "colab_type": "code",
    "editable": true,
    "id": "syey9WGg4kQn",
    "outputId": "be3602bf-0f7f-406c-e015-fb195c0e9c6e",
    "slideshow": {
     "slide_type": "fragment"
    },
    "tags": []
   },
   "outputs": [
    {
     "name": "stdout",
     "output_type": "stream",
     "text": [
      "3.141592653589793\n"
     ]
    }
   ],
   "source": [
    "import math\n",
    "print(math.pi)"
   ]
  },
  {
   "cell_type": "code",
   "execution_count": null,
   "metadata": {
    "colab": {},
    "colab_type": "code",
    "editable": true,
    "id": "WgUFIwxL4kQp",
    "outputId": "a03049af-46f4-452c-cff5-bdf86ea5f627",
    "slideshow": {
     "slide_type": "fragment"
    },
    "tags": []
   },
   "outputs": [],
   "source": [
    "# Calculate the area of a circle with radius 3\n",
    "\n",
    "r = 3.0\n",
    "a = math.pi * r ** 2\n",
    "print(a)"
   ]
  },
  {
   "cell_type": "code",
   "execution_count": null,
   "metadata": {
    "colab": {},
    "colab_type": "code",
    "editable": true,
    "id": "U01pOQOW4kQq",
    "outputId": "7e116410-e77f-4b11-db8d-e9f7f3bb66ed",
    "scrolled": true,
    "slideshow": {
     "slide_type": "subslide"
    },
    "tags": []
   },
   "outputs": [],
   "source": [
    "help(math)"
   ]
  },
  {
   "cell_type": "markdown",
   "metadata": {
    "colab_type": "text",
    "editable": true,
    "id": "JzsLLKcPgoRq",
    "slideshow": {
     "slide_type": "slide"
    },
    "tags": []
   },
   "source": [
    "### Summary\n",
    "* comments, indentation, variables (better code readability)\n",
    "* basic data types: numbers (numerical information) and strings (non-numerical information)\n",
    "* compound data types: lists, tuples (immutable) and dictionaries (named)\n",
    "* control flow: `if` (what makes computers look smart) and `for` (what makes computers do a lot of tasks with a small number of lines of instructions)\n",
    "* functions (what are used to avoid repeating large blocks of codes)\n",
    "* modules and packages (how codes are organized and shared)"
   ]
  },
  {
   "cell_type": "markdown",
   "metadata": {
    "colab_type": "text",
    "editable": true,
    "id": "SwGGYvzD4kQr",
    "slideshow": {
     "slide_type": ""
    },
    "tags": []
   },
   "source": [
    "### Reference\n",
    "\n",
    "* https://docs.python.org/3/tutorial/index.html\n",
    "* http://pycourse.princeton.edu"
   ]
  }
 ],
 "metadata": {
  "colab": {
   "collapsed_sections": [],
   "name": "python_basics.ipynb",
   "provenance": [],
   "toc_visible": true
  },
  "hide_input": false,
  "kernelspec": {
   "display_name": "Python 3 (ipykernel)",
   "language": "python",
   "name": "python3"
  },
  "language_info": {
   "codemirror_mode": {
    "name": "ipython",
    "version": 3
   },
   "file_extension": ".py",
   "mimetype": "text/x-python",
   "name": "python",
   "nbconvert_exporter": "python",
   "pygments_lexer": "ipython3",
   "version": "3.10.13"
  },
  "toc": {
   "base_numbering": 1,
   "nav_menu": {},
   "number_sections": false,
   "sideBar": true,
   "skip_h1_title": false,
   "title_cell": "Table of Contents",
   "title_sidebar": "Contents",
   "toc_cell": false,
   "toc_position": {},
   "toc_section_display": true,
   "toc_window_display": false
  }
 },
 "nbformat": 4,
 "nbformat_minor": 4
}
